{
 "cells": [
  {
   "cell_type": "markdown",
   "metadata": {},
   "source": []
  },
  {
   "cell_type": "code",
   "execution_count": 2,
   "metadata": {},
   "outputs": [
    {
     "name": "stdout",
     "output_type": "stream",
     "text": [
      "Downloaded: stage1_papers_downloaded/article_5.xml\n"
     ]
    }
   ],
   "source": [
    "import requests\n",
    "import json\n",
    "import os\n",
    "\n",
    "# Define the search keyword and API endpoint\n",
    "keyword = \"Machine Learning\"\n",
    "endpoint = \"https://www.ebi.ac.uk/europepmc/webservices/rest/search\"\n",
    "\n",
    "# Make a request to the Europe PMC API\n",
    "params = {\n",
    "    'query': keyword,\n",
    "    'resultType': 'core',\n",
    "    'pageSize': 5,\n",
    "    'format': 'json'\n",
    "}\n",
    "response = requests.get(endpoint, params=params)\n",
    "\n",
    "# Check if the request was successful\n",
    "if response.status_code == 200:\n",
    "    data = response.json()\n",
    "    articles = data.get('resultList', {}).get('result', [])\n",
    "    \n",
    "    # Create a directory to save the files\n",
    "    if not os.path.exists('stage1_papers_downloaded'):\n",
    "        os.makedirs('stage1_papers_downloaded')\n",
    "    \n",
    "    # Download the files\n",
    "    for i, article in enumerate(articles):\n",
    "        pmcid = article.get('pmcid')\n",
    "        if pmcid:\n",
    "            # Change 'fullTextXML' to 'fullTextPDF', 'fullTextHTML', or 'fullTextTXT' for different formats\n",
    "            file_url = f\"https://www.ebi.ac.uk/europepmc/webservices/rest/{pmcid}/fullTextXML\"\n",
    "            file_response = requests.get(file_url)\n",
    "            if file_response.status_code == 200:\n",
    "                file_path = f'stage1_papers_downloaded/article_{i+1}.xml'\n",
    "                with open(file_path, 'wb') as file:\n",
    "                    file.write(file_response.content)\n",
    "                print(f\"Downloaded: {file_path}\")\n",
    "            else:\n",
    "                print(f\"Failed to download file for PMCID: {pmcid}\")\n",
    "else:\n",
    "    print(\"Failed to retrieve data from Europe PMC API\")"
   ]
  }
 ],
 "metadata": {
  "kernelspec": {
   "display_name": "base",
   "language": "python",
   "name": "python3"
  },
  "language_info": {
   "codemirror_mode": {
    "name": "ipython",
    "version": 3
   },
   "file_extension": ".py",
   "mimetype": "text/x-python",
   "name": "python",
   "nbconvert_exporter": "python",
   "pygments_lexer": "ipython3",
   "version": "3.11.7"
  }
 },
 "nbformat": 4,
 "nbformat_minor": 2
}
