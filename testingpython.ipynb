{
 "cells": [
  {
   "cell_type": "code",
   "execution_count": 4,
   "metadata": {},
   "outputs": [
    {
     "ename": "NameError",
     "evalue": "name 'data' is not defined",
     "output_type": "error",
     "traceback": [
      "\u001b[0;31m---------------------------------------------------------------------------\u001b[0m",
      "\u001b[0;31mNameError\u001b[0m                                 Traceback (most recent call last)",
      "Cell \u001b[0;32mIn[4], line 61\u001b[0m\n\u001b[1;32m     57\u001b[0m response \u001b[38;5;241m=\u001b[39m requests\u001b[38;5;241m.\u001b[39mget(url, params\u001b[38;5;241m=\u001b[39mparams)\n\u001b[1;32m     59\u001b[0m \u001b[38;5;66;03m# Check if the response is successful\u001b[39;00m\n\u001b[0;32m---> 61\u001b[0m \u001b[38;5;28;01mfor\u001b[39;00m item \u001b[38;5;129;01min\u001b[39;00m data\u001b[38;5;241m.\u001b[39mget(\u001b[38;5;124m'\u001b[39m\u001b[38;5;124mrecords\u001b[39m\u001b[38;5;124m'\u001b[39m, []):\n\u001b[1;32m     62\u001b[0m     pmcid \u001b[38;5;241m=\u001b[39m item\u001b[38;5;241m.\u001b[39mget(\u001b[38;5;124m'\u001b[39m\u001b[38;5;124mpmcid\u001b[39m\u001b[38;5;124m'\u001b[39m)\n\u001b[1;32m     63\u001b[0m     pmid \u001b[38;5;241m=\u001b[39m item\u001b[38;5;241m.\u001b[39mget(\u001b[38;5;124m'\u001b[39m\u001b[38;5;124mpmid\u001b[39m\u001b[38;5;124m'\u001b[39m)\n",
      "\u001b[0;31mNameError\u001b[0m: name 'data' is not defined"
     ]
    }
   ],
   "source": [
    "import requests\n",
    "\n",
    "# List of PMCIDs to convert\n",
    "pmcids = [\n",
    "    \"PMC1421439\", \"PMC1847686\", \"PMC2213690\", \"PMC1892091\", \"PMC2638158\", \n",
    "    \"PMC2665034\", \"PMC2275242\", \"PMC2561051\", \"PMC2660303\", \"PMC2752621\",\n",
    "    \"PMC3009519\", \"PMC3169429\", \"PMC3542245\", \"PMC3396452\", \"PMC3292016\", \n",
    "    \"PMC3340366\", \"PMC4289375\", \"PMC3967921\", \"PMC4058174\", \"PMC3912131\", \n",
    "    \"PMC4706063\", \"PMC4507953\", \"PMC4388847\", \"PMC4606520\", \"PMC4466774\", \n",
    "    \"PMC4606520\", \"PMC4589233\", \"PMC4606520\", \"PMC4315323\", \"PMC4315436\", \n",
    "    \"PMC4507953\", \"PMC4834164\", \"PMC4773135\", \"PMC5042084\", \"PMC4931851\", \n",
    "    \"PMC5079830\", \"PMC5034704\", \"PMC5104375\", \"PMC5113897\", \"PMC4894951\", \n",
    "    \"PMC5120500\", \"PMC5775817\", \"PMC5738356\", \"PMC5517062\", \"PMC5650527\", \n",
    "    \"PMC5656045\", \"PMC5821114\", \"PMC5773889\", \"PMC5650527\", \"PMC5610945\", \n",
    "    \"PMC5550971\", \"PMC5870574\", \"PMC5860171\", \"PMC5860114\", \"PMC6172579\", \n",
    "    \"PMC6036855\", \"PMC6237755\", \"PMC5930664\", \"PMC5976622\", \"PMC6214550\", \n",
    "    \"PMC6214495\", \"PMC5930664\", \"PMC6036478\", \"PMC6242780\", \"PMC5821274\", \n",
    "    \"PMC6091426\", \"PMC5910428\", \"PMC6277570\", \"PMC6091426\", \"PMC5487762\", \n",
    "    \"PMC9328381\", \"PMC6394031\", \"PMC6495231\", \"PMC6708480\", \"PMC6851483\", \n",
    "    \"PMC6902683\", \"PMC6715517\", \"PMC6657583\", \"PMC6908647\", \"PMC6478501\", \n",
    "    \"PMC6459551\", \"PMC6690680\", \"PMC6664791\", \"PMC6457539\", \"PMC6436896\", \n",
    "    \"PMC6743778\", \"PMC6929456\", \"PMC6923882\", \"PMC6629660\", \"PMC6679781\", \n",
    "    \"PMC6732622\", \"PMC6817842\", \"PMC6510637\", \"PMC6386402\", \"PMC6737184\", \n",
    "    \"PMC6548586\", \"PMC6982787\", \"PMC6594643\", \"PMC7297119\", \"PMC7073919\", \n",
    "    \"PMC7648120\", \"PMC7333383\", \"PMC7520974\", \"PMC7054390\", \"PMC7442807\", \n",
    "    \"PMC7142336\", \"PMC7162491\", \"PMC7569858\", \"PMC7493359\", \"PMC7721480\", \n",
    "    \"PMC7725002\", \"PMC7591939\", \"PMC7237030\", \"PMC7734183\", \"PMC8545175\", \n",
    "    \"PMC7680913\", \"PMC7068237\", \"PMC7406221\", \"PMC7648120\", \"PMC7596958\", \n",
    "    \"PMC7718328\", \"PMC7735824\", \"PMC7352871\", \"PMC7933593\", \"PMC7751093\", \n",
    "    \"PMC7156652\", \"PMC7794018\", \"PMC7446623\", \"PMC7602301\", \"PMC7682087\", \n",
    "    \"PMC7035778\", \"PMC8336795\", \"PMC8225676\", \"PMC8843059\", \"PMC8351329\", \n",
    "    \"PMC7816647\", \"PMC8100175\", \"PMC8185002\", \"PMC8067080\", \"PMC8230313\", \n",
    "    \"PMC8259419\", \"PMC8182908\", \"PMC8485143\", \"PMC7860026\", \"PMC8204819\", \n",
    "    \"PMC8469072\", \"PMC7845959\", \"PMC8385175\", \"PMC8328792\", \"PMC8125376\", \n",
    "    \"PMC8100172\", \"PMC8042551\", \"PMC8019900\", \"PMC8192578\", \"PMC8351329\", \n",
    "    \"PMC8093828\", \"PMC8175075\", \"PMC8261512\", \"PMC8295265\", \"PMC8554859\", \n",
    "    \"PMC7876317\", \"PMC8553134\", \"PMC8162250\", \"PMC8352508\", \"PMC9681730\", \n",
    "    \"PMC9252801\", \"PMC9329459\", \"PMC9757591\", \"PMC10087011\", \"PMC10776382\", \n",
    "    \"PMC10730818\", \"PMC9805592\", \"PMC10684096\", \"PMC10653424\", \"PMC10441000\", \n",
    "    \"PMC10541796\", \"PMC10603766\", \"PMC10600917\", \"PMC10673642\", \"PMC10646871\", \n",
    "    \"PMC10716825\", \"PMC10821710\", \"PMC11340644\", \"PMC11629979\", \"PMC10783149\", \n",
    "    \"PMC10940896\", \"PMC11034027\", \"PMC11258913\", \"PMC11238428\", \"PMC11299106\", \n",
    "    \"PMC11423353\", \"PMC11659980\", \"PMC11653894\", \"PMC11734293\"\n",
    "]\n",
    "\n",
    "# Base URL for the NCBI ID Converter API\n",
    "url = \"https://www.ncbi.nlm.nih.gov/pmc/utils/idconv/v1.0/\"\n",
    "\n",
    "# Prepare the parameters for the request\n",
    "params = {\n",
    "    'tool': 'my_tool',\n",
    "    'email': 'your_email@example.com',\n",
    "    'ids': ','.join(pmcids)  # Convert the list of PMCIDs into a comma-separated string\n",
    "}\n",
    "\n",
    "# Send the request to the NCBI ID Converter API\n",
    "response = requests.get(url, params=params)\n",
    "\n",
    "# Check if the response is successful\n",
    "\n",
    "for item in data.get('records', []):\n",
    "    pmcid = item.get('pmcid')\n",
    "    pmid = item.get('pmid')\n",
    "    print(f\"PMCID: {pmcid} -> PMID: {pmid}\")\n",
    "   \n",
    "\n"
   ]
  }
 ],
 "metadata": {
  "kernelspec": {
   "display_name": "base",
   "language": "python",
   "name": "python3"
  },
  "language_info": {
   "codemirror_mode": {
    "name": "ipython",
    "version": 3
   },
   "file_extension": ".py",
   "mimetype": "text/x-python",
   "name": "python",
   "nbconvert_exporter": "python",
   "pygments_lexer": "ipython3",
   "version": "3.12.7"
  }
 },
 "nbformat": 4,
 "nbformat_minor": 2
}
